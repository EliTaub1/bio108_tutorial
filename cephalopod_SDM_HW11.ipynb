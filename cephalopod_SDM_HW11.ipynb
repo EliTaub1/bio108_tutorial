{
  "nbformat": 4,
  "nbformat_minor": 0,
  "metadata": {
    "colab": {
      "provenance": [],
      "toc_visible": true,
      "authorship_tag": "ABX9TyOtoFoV12HxeFORC5olSRml",
      "include_colab_link": true
    },
    "kernelspec": {
      "name": "python3",
      "display_name": "Python 3"
    },
    "language_info": {
      "name": "python"
    }
  },
  "cells": [
    {
      "cell_type": "markdown",
      "metadata": {
        "id": "view-in-github",
        "colab_type": "text"
      },
      "source": [
        "<a href=\"https://colab.research.google.com/github/EliTaub1/bio108_tutorial/blob/main/cephalopod_SDM_HW11.ipynb\" target=\"_parent\"><img src=\"https://colab.research.google.com/assets/colab-badge.svg\" alt=\"Open In Colab\"/></a>"
      ]
    },
    {
      "cell_type": "markdown",
      "source": [
        "# Creating a Species Distribution Model for the Squid *Todaropsis eblanae*\n",
        "Inspired by:\n",
        "\n",
        "Rongcheng, R., H. Yi, M. Jialing, Y. Ying, L. Fanning, W. Xiya, S. Xinyuan, L. Caigang, D. Yingen, H. Qinghai, Y. Jinxiang, and Q. Jianglong. 2025. The species distribution model based on the random forest algorithm reveals the distribution patterns of Neophocaena asiaeorientalis. Scientific Reports 15:10037.\n",
        "\n",
        "--\n",
        "\n",
        "Rongcheng et al investigated the distribution of the Yangtze Finless Porpoise (YFP), a critically endangered species, in order to answer which aquatic variables were most critical in determining YFP habitat preferences and use a SDM to determine which areas were most likely to contain YFP. While they did not have any explicit hypotheses, they expected to see certain that aquatic factors would be more important in predicting YFP distributions than others and that a SDM would differentiate between regions which were and were not suitable for YFP.\n",
        "\n",
        "They found that phosphate concentration and cyanobacteria density were the most important factors in predicting YFP distribution, along with noting that the use of absence rather than pseudo-absence points (like were used there) would be quite useful in constructing better SDMs.\n",
        "\n",
        "--\n",
        "\n",
        "Here, we use work from the cephalopod distribution dataset from Luna et al (2025) (consisting of cephalopod presence/absence from bottom trawls conducted between 2004 and 2012) to implement a Random Forest Species Distribution Model to predict the distribution of the squid *Todaropsis eblanae* in the Canary Current.\n",
        "\n",
        "Inspired by the analysis of Rongcheng et al, we hope to answer what environmental variables will be most predictive of *Todaropsis eblanae* presence/absence and which regions *Todaropsis eblanae* will be predicted to occupy.\n",
        "\n",
        "We hypothesize that dissolved oxygen and salinity are critical for determining which habitats are occupied by *Todaropsis eblanae*, as these variables were identified by Luna et al as a critical factor in predicting distribution of cephalopod species. Thus, we predict a random forest model will select these two variables as some of the most important variables for determining *Todaropsis eblanae*.\n",
        "\n",
        "(Note: The importing packages, data preprocessing steps, and beginning of the analysis are taken from Homework 10.)"
      ],
      "metadata": {
        "id": "l1UyUDquJDJ5"
      }
    },
    {
      "cell_type": "markdown",
      "source": [
        "## Importing and installing packages\n",
        "First, we install and import necessary packages that we will use in this analysis."
      ],
      "metadata": {
        "id": "l23SXOFjt5QO"
      }
    },
    {
      "cell_type": "code",
      "source": [
        "#install packages\n",
        "! pip install rasterio rioxarray rasterstats pyo_oracle earthpy"
      ],
      "metadata": {
        "colab": {
          "base_uri": "https://localhost:8080/"
        },
        "id": "XP2cS2aDBzbG",
        "outputId": "b0575da6-56a4-4349-fa84-a2d68e2d5c35"
      },
      "execution_count": 77,
      "outputs": [
        {
          "output_type": "stream",
          "name": "stdout",
          "text": [
            "Requirement already satisfied: rasterio in /usr/local/lib/python3.11/dist-packages (1.4.3)\n",
            "Requirement already satisfied: rioxarray in /usr/local/lib/python3.11/dist-packages (0.18.2)\n",
            "Requirement already satisfied: rasterstats in /usr/local/lib/python3.11/dist-packages (0.20.0)\n",
            "Requirement already satisfied: pyo_oracle in /usr/local/lib/python3.11/dist-packages (0.0.5)\n",
            "Requirement already satisfied: earthpy in /usr/local/lib/python3.11/dist-packages (0.9.4)\n",
            "Requirement already satisfied: affine in /usr/local/lib/python3.11/dist-packages (from rasterio) (2.4.0)\n",
            "Requirement already satisfied: attrs in /usr/local/lib/python3.11/dist-packages (from rasterio) (25.3.0)\n",
            "Requirement already satisfied: certifi in /usr/local/lib/python3.11/dist-packages (from rasterio) (2025.1.31)\n",
            "Requirement already satisfied: click>=4.0 in /usr/local/lib/python3.11/dist-packages (from rasterio) (8.1.8)\n",
            "Requirement already satisfied: cligj>=0.5 in /usr/local/lib/python3.11/dist-packages (from rasterio) (0.7.2)\n",
            "Requirement already satisfied: numpy>=1.24 in /usr/local/lib/python3.11/dist-packages (from rasterio) (2.0.2)\n",
            "Requirement already satisfied: click-plugins in /usr/local/lib/python3.11/dist-packages (from rasterio) (1.1.1)\n",
            "Requirement already satisfied: pyparsing in /usr/local/lib/python3.11/dist-packages (from rasterio) (3.2.3)\n",
            "Requirement already satisfied: packaging in /usr/local/lib/python3.11/dist-packages (from rioxarray) (24.2)\n",
            "Requirement already satisfied: xarray>=2024.7.0 in /usr/local/lib/python3.11/dist-packages (from rioxarray) (2025.1.2)\n",
            "Requirement already satisfied: pyproj>=3.3 in /usr/local/lib/python3.11/dist-packages (from rioxarray) (3.7.1)\n",
            "Requirement already satisfied: fiona in /usr/local/lib/python3.11/dist-packages (from rasterstats) (1.10.1)\n",
            "Requirement already satisfied: simplejson in /usr/local/lib/python3.11/dist-packages (from rasterstats) (3.20.1)\n",
            "Requirement already satisfied: shapely in /usr/local/lib/python3.11/dist-packages (from rasterstats) (2.0.7)\n",
            "Requirement already satisfied: erddapy in /usr/local/lib/python3.11/dist-packages (from pyo_oracle) (2.2.3)\n",
            "Requirement already satisfied: geopandas in /usr/local/lib/python3.11/dist-packages (from earthpy) (1.0.1)\n",
            "Requirement already satisfied: matplotlib>=2.0.0 in /usr/local/lib/python3.11/dist-packages (from earthpy) (3.10.0)\n",
            "Requirement already satisfied: scikit-image in /usr/local/lib/python3.11/dist-packages (from earthpy) (0.25.2)\n",
            "Requirement already satisfied: requests in /usr/local/lib/python3.11/dist-packages (from earthpy) (2.32.3)\n",
            "Requirement already satisfied: contourpy>=1.0.1 in /usr/local/lib/python3.11/dist-packages (from matplotlib>=2.0.0->earthpy) (1.3.1)\n",
            "Requirement already satisfied: cycler>=0.10 in /usr/local/lib/python3.11/dist-packages (from matplotlib>=2.0.0->earthpy) (0.12.1)\n",
            "Requirement already satisfied: fonttools>=4.22.0 in /usr/local/lib/python3.11/dist-packages (from matplotlib>=2.0.0->earthpy) (4.56.0)\n",
            "Requirement already satisfied: kiwisolver>=1.3.1 in /usr/local/lib/python3.11/dist-packages (from matplotlib>=2.0.0->earthpy) (1.4.8)\n",
            "Requirement already satisfied: pillow>=8 in /usr/local/lib/python3.11/dist-packages (from matplotlib>=2.0.0->earthpy) (11.1.0)\n",
            "Requirement already satisfied: python-dateutil>=2.7 in /usr/local/lib/python3.11/dist-packages (from matplotlib>=2.0.0->earthpy) (2.8.2)\n",
            "Requirement already satisfied: pandas>=2.1 in /usr/local/lib/python3.11/dist-packages (from xarray>=2024.7.0->rioxarray) (2.2.2)\n",
            "Requirement already satisfied: httpx>=0.25.0 in /usr/local/lib/python3.11/dist-packages (from erddapy->pyo_oracle) (0.28.1)\n",
            "Requirement already satisfied: pytz in /usr/local/lib/python3.11/dist-packages (from erddapy->pyo_oracle) (2025.2)\n",
            "Requirement already satisfied: pyogrio>=0.7.2 in /usr/local/lib/python3.11/dist-packages (from geopandas->earthpy) (0.10.0)\n",
            "Requirement already satisfied: charset-normalizer<4,>=2 in /usr/local/lib/python3.11/dist-packages (from requests->earthpy) (3.4.1)\n",
            "Requirement already satisfied: idna<4,>=2.5 in /usr/local/lib/python3.11/dist-packages (from requests->earthpy) (3.10)\n",
            "Requirement already satisfied: urllib3<3,>=1.21.1 in /usr/local/lib/python3.11/dist-packages (from requests->earthpy) (2.3.0)\n",
            "Requirement already satisfied: scipy>=1.11.4 in /usr/local/lib/python3.11/dist-packages (from scikit-image->earthpy) (1.14.1)\n",
            "Requirement already satisfied: networkx>=3.0 in /usr/local/lib/python3.11/dist-packages (from scikit-image->earthpy) (3.4.2)\n",
            "Requirement already satisfied: imageio!=2.35.0,>=2.33 in /usr/local/lib/python3.11/dist-packages (from scikit-image->earthpy) (2.37.0)\n",
            "Requirement already satisfied: tifffile>=2022.8.12 in /usr/local/lib/python3.11/dist-packages (from scikit-image->earthpy) (2025.3.13)\n",
            "Requirement already satisfied: lazy-loader>=0.4 in /usr/local/lib/python3.11/dist-packages (from scikit-image->earthpy) (0.4)\n",
            "Requirement already satisfied: anyio in /usr/local/lib/python3.11/dist-packages (from httpx>=0.25.0->erddapy->pyo_oracle) (4.9.0)\n",
            "Requirement already satisfied: httpcore==1.* in /usr/local/lib/python3.11/dist-packages (from httpx>=0.25.0->erddapy->pyo_oracle) (1.0.7)\n",
            "Requirement already satisfied: h11<0.15,>=0.13 in /usr/local/lib/python3.11/dist-packages (from httpcore==1.*->httpx>=0.25.0->erddapy->pyo_oracle) (0.14.0)\n",
            "Requirement already satisfied: tzdata>=2022.7 in /usr/local/lib/python3.11/dist-packages (from pandas>=2.1->xarray>=2024.7.0->rioxarray) (2025.2)\n",
            "Requirement already satisfied: six>=1.5 in /usr/local/lib/python3.11/dist-packages (from python-dateutil>=2.7->matplotlib>=2.0.0->earthpy) (1.17.0)\n",
            "Requirement already satisfied: sniffio>=1.1 in /usr/local/lib/python3.11/dist-packages (from anyio->httpx>=0.25.0->erddapy->pyo_oracle) (1.3.1)\n",
            "Requirement already satisfied: typing_extensions>=4.5 in /usr/local/lib/python3.11/dist-packages (from anyio->httpx>=0.25.0->erddapy->pyo_oracle) (4.13.0)\n"
          ]
        }
      ]
    },
    {
      "cell_type": "code",
      "source": [
        "#import packages\n",
        "from google.colab import drive #allows access to data files in Google Drive\n",
        "drive.mount('/content/drive')\n",
        "import numpy as np\n",
        "import pandas as pd\n",
        "import matplotlib.pyplot as plt\n",
        "import geopandas as gpd\n",
        "import rasterio\n",
        "import rasterio.plot\n",
        "from shapely.geometry import Point\n",
        "import rasterstats\n",
        "import os\n",
        "import pyo_oracle\n",
        "from sklearn.ensemble import RandomForestClassifier\n",
        "from sklearn.model_selection import train_test_split\n",
        "import earthpy as et\n"
      ],
      "metadata": {
        "colab": {
          "base_uri": "https://localhost:8080/"
        },
        "id": "CJ4cabGoAozd",
        "outputId": "58b9a0b5-8a4c-482e-9bc3-12e02ae6d428"
      },
      "execution_count": 78,
      "outputs": [
        {
          "output_type": "stream",
          "name": "stdout",
          "text": [
            "Drive already mounted at /content/drive; to attempt to forcibly remount, call drive.mount(\"/content/drive\", force_remount=True).\n"
          ]
        }
      ]
    },
    {
      "cell_type": "markdown",
      "source": [
        "## Importing Data"
      ],
      "metadata": {
        "id": "Aj7Wj0mvBPD3"
      }
    },
    {
      "cell_type": "markdown",
      "source": [
        "### Cephalopod Distribution\n",
        "The data from Luna et al were saved as a Excel (.xlsx) file. For the purposes of this tutorial, they have already been covnerted to a .csv and uploaded to Google Drive.\n",
        "\n",
        "We start by importing the data as a csv before turning the Longitude and Latitude values into spatial points that can be read as a GeoDataFrame."
      ],
      "metadata": {
        "id": "HOirDGV7pSvY"
      }
    },
    {
      "cell_type": "code",
      "source": [
        "#Import cephalopod data\n",
        "cephalopod_path = \"/content/drive/MyDrive/Colab Notebooks/Supporting_data_-_Cephalopods_distribution_paper.csv\" #path within google drive, modify as needed\n",
        "cephalopod = pd.read_csv(cephalopod_path)\n",
        "\n",
        "#create GPD with cephalopod locations as spatial points\n",
        "cephalopod_coords = cephalopod[[\"Long L\", \"Latit L\"]]\n",
        "cephalopod_coords = cephalopod_coords.to_numpy()\n",
        "cephalopod_locations = [Point(xy) for xy in cephalopod_coords] #converts coordinate array into spatial points\n",
        "\n",
        "cephalopod_locations = gpd.GeoDataFrame(cephalopod_locations,\n",
        "                                  columns=['geometry'],\n",
        "                                  crs=\"epsg:4326\")\n",
        "#add family data for each data point\n",
        "cephalopod_locations[\"Family\"] = cephalopod[\"Family\"]\n",
        "cephalopod_locations[\"Species\"] = cephalopod[\"Species\"]\n",
        "\n",
        "#remove NA locations\n",
        "cephalopod_locations = cephalopod_locations.loc[(cephalopod_locations.is_empty) == False]"
      ],
      "metadata": {
        "id": "MobkDyTcBhFz"
      },
      "execution_count": 79,
      "outputs": []
    },
    {
      "cell_type": "markdown",
      "source": [
        "### Envrionmental Variables\n",
        "Now, we add in our oceanographic data from Bio-ORACLE (https://bio-oracle.org/index.php). Bio-ORACLE has an associated package, pyo_oracle, which makes it easy to acquire Bio-ORACLE datasets and download them directly into our directory!\n",
        "\n",
        "First, we filter layers to get only the ones we desire and then we download these layers in the temporal and geographical range used in the reference study."
      ],
      "metadata": {
        "id": "o_htctdUGGPG"
      }
    },
    {
      "cell_type": "code",
      "source": [
        "# Get full list of layers available\n",
        "bio_oracle_layers = pyo_oracle.list_layers()\n",
        "\n",
        "#reset pyo_oracle data from previous uses and then recreate folder\n",
        "os.system('rm -rf /usr/local/lib/python3.11/dist-packages/pyo_oracle/data/')\n",
        "os.system('mkdir /usr/local/lib/python3.11/dist-packages/pyo_oracle/data/')\n",
        "\n",
        "#Select only layers of variables taken during the baseline period (2000-2018/2019/2020)\n",
        "baselineLayers = bio_oracle_layers[bio_oracle_layers[\"datasetID\"].str.contains(\"baseline\")]\n",
        "#Select only layers of variables taken at the benthic layer (as this is where the bottom trawls were conducted)\n",
        "usedLayers = baselineLayers[baselineLayers[\"datasetID\"].str.contains(\"depthmean\")]\n",
        "\n",
        "# Define constraints on layers to be in desired temporal range and latitude/longitude range. Here, we use the constraints of our reference study.y\n",
        "constraints = {\n",
        "    \"time>=\": \"2004-01-01T00:00:00Z\",\n",
        "    \"time<=\": \"2012-01-01T12:00:00Z\",\n",
        "    \"time_step\": 1,\n",
        "    \"latitude>=\": 8,\n",
        "    \"latitude<=\": 36,\n",
        "    \"latitude_step\": 1,\n",
        "    \"longitude>=\": -20,\n",
        "    \"longitude<=\": 11,\n",
        "    \"longitude_step\": 1\n",
        "}\n",
        "\n",
        "#Download layers using the IDs remaining after we've filtered\n",
        "for title in usedLayers.datasetID:\n",
        "  pyo_oracle.download_layers(title, constraints=constraints, skip_confirmation = True)"
      ],
      "metadata": {
        "colab": {
          "base_uri": "https://localhost:8080/"
        },
        "id": "MmGz5tGFyf1f",
        "outputId": "a6f2a1d9-f1b6-4a09-ac05-3211d98f7c65"
      },
      "execution_count": 80,
      "outputs": [
        {
          "output_type": "stream",
          "name": "stdout",
          "text": [
            "Downloading dataset 'chl_baseline_2000_2018_depthmean' as nc file to '/usr/local/lib/python3.11/dist-packages/pyo_oracle/data'.\n",
            "Constraints are:\n",
            "{'time>=': '2004-01-01T00:00:00Z', 'time<=': '2012-01-01T12:00:00Z', 'time_step': 1, 'latitude>=': 8, 'latitude<=': 36, 'latitude_step': 1, 'longitude>=': -20, 'longitude<=': 11, 'longitude_step': 1}\n",
            "Download finished at '/usr/local/lib/python3.11/dist-packages/pyo_oracle/data/chl_baseline_2000_2018_depthmean_2025-04-03-165708.nc'. File size is 31.9 MB.\n",
            "Downloading dataset 'dfe_baseline_2000_2018_depthmean' as nc file to '/usr/local/lib/python3.11/dist-packages/pyo_oracle/data'.\n",
            "Constraints are:\n",
            "{'time>=': '2004-01-01T00:00:00Z', 'time<=': '2012-01-01T12:00:00Z', 'time_step': 1, 'latitude>=': 8, 'latitude<=': 36, 'latitude_step': 1, 'longitude>=': -20, 'longitude<=': 11, 'longitude_step': 1}\n",
            "Download finished at '/usr/local/lib/python3.11/dist-packages/pyo_oracle/data/dfe_baseline_2000_2018_depthmean_2025-04-03-165711.nc'. File size is 31.9 MB.\n",
            "Downloading dataset 'o2_baseline_2000_2018_depthmean' as nc file to '/usr/local/lib/python3.11/dist-packages/pyo_oracle/data'.\n",
            "Constraints are:\n",
            "{'time>=': '2004-01-01T00:00:00Z', 'time<=': '2012-01-01T12:00:00Z', 'time_step': 1, 'latitude>=': 8, 'latitude<=': 36, 'latitude_step': 1, 'longitude>=': -20, 'longitude<=': 11, 'longitude_step': 1}\n",
            "Download finished at '/usr/local/lib/python3.11/dist-packages/pyo_oracle/data/o2_baseline_2000_2018_depthmean_2025-04-03-165715.nc'. File size is 31.9 MB.\n",
            "Downloading dataset 'no3_baseline_2000_2018_depthmean' as nc file to '/usr/local/lib/python3.11/dist-packages/pyo_oracle/data'.\n",
            "Constraints are:\n",
            "{'time>=': '2004-01-01T00:00:00Z', 'time<=': '2012-01-01T12:00:00Z', 'time_step': 1, 'latitude>=': 8, 'latitude<=': 36, 'latitude_step': 1, 'longitude>=': -20, 'longitude<=': 11, 'longitude_step': 1}\n",
            "Download finished at '/usr/local/lib/python3.11/dist-packages/pyo_oracle/data/no3_baseline_2000_2018_depthmean_2025-04-03-165719.nc'. File size is 31.9 MB.\n",
            "Downloading dataset 'thetao_baseline_2000_2019_depthmean' as nc file to '/usr/local/lib/python3.11/dist-packages/pyo_oracle/data'.\n",
            "Constraints are:\n",
            "{'time>=': '2004-01-01T00:00:00Z', 'time<=': '2012-01-01T12:00:00Z', 'time_step': 1, 'latitude>=': 8, 'latitude<=': 36, 'latitude_step': 1, 'longitude>=': -20, 'longitude<=': 11, 'longitude_step': 1}\n",
            "Download finished at '/usr/local/lib/python3.11/dist-packages/pyo_oracle/data/thetao_baseline_2000_2019_depthmean_2025-04-03-165724.nc'. File size is 31.9 MB.\n",
            "Downloading dataset 'ph_baseline_2000_2018_depthmean' as nc file to '/usr/local/lib/python3.11/dist-packages/pyo_oracle/data'.\n",
            "Constraints are:\n",
            "{'time>=': '2004-01-01T00:00:00Z', 'time<=': '2012-01-01T12:00:00Z', 'time_step': 1, 'latitude>=': 8, 'latitude<=': 36, 'latitude_step': 1, 'longitude>=': -20, 'longitude<=': 11, 'longitude_step': 1}\n",
            "Download finished at '/usr/local/lib/python3.11/dist-packages/pyo_oracle/data/ph_baseline_2000_2018_depthmean_2025-04-03-165728.nc'. File size is 31.9 MB.\n",
            "Downloading dataset 'po4_baseline_2000_2018_depthmean' as nc file to '/usr/local/lib/python3.11/dist-packages/pyo_oracle/data'.\n",
            "Constraints are:\n",
            "{'time>=': '2004-01-01T00:00:00Z', 'time<=': '2012-01-01T12:00:00Z', 'time_step': 1, 'latitude>=': 8, 'latitude<=': 36, 'latitude_step': 1, 'longitude>=': -20, 'longitude<=': 11, 'longitude_step': 1}\n",
            "Download finished at '/usr/local/lib/python3.11/dist-packages/pyo_oracle/data/po4_baseline_2000_2018_depthmean_2025-04-03-165732.nc'. File size is 31.9 MB.\n",
            "Downloading dataset 'so_baseline_2000_2019_depthmean' as nc file to '/usr/local/lib/python3.11/dist-packages/pyo_oracle/data'.\n",
            "Constraints are:\n",
            "{'time>=': '2004-01-01T00:00:00Z', 'time<=': '2012-01-01T12:00:00Z', 'time_step': 1, 'latitude>=': 8, 'latitude<=': 36, 'latitude_step': 1, 'longitude>=': -20, 'longitude<=': 11, 'longitude_step': 1}\n",
            "Download finished at '/usr/local/lib/python3.11/dist-packages/pyo_oracle/data/so_baseline_2000_2019_depthmean_2025-04-03-165736.nc'. File size is 31.9 MB.\n",
            "Downloading dataset 'swd_baseline_2000_2019_depthmean' as nc file to '/usr/local/lib/python3.11/dist-packages/pyo_oracle/data'.\n",
            "Constraints are:\n",
            "{'time>=': '2004-01-01T00:00:00Z', 'time<=': '2012-01-01T12:00:00Z', 'time_step': 1, 'latitude>=': 8, 'latitude<=': 36, 'latitude_step': 1, 'longitude>=': -20, 'longitude<=': 11, 'longitude_step': 1}\n",
            "Download finished at '/usr/local/lib/python3.11/dist-packages/pyo_oracle/data/swd_baseline_2000_2019_depthmean_2025-04-03-165739.nc'. File size is 31.9 MB.\n",
            "Downloading dataset 'sws_baseline_2000_2019_depthmean' as nc file to '/usr/local/lib/python3.11/dist-packages/pyo_oracle/data'.\n",
            "Constraints are:\n",
            "{'time>=': '2004-01-01T00:00:00Z', 'time<=': '2012-01-01T12:00:00Z', 'time_step': 1, 'latitude>=': 8, 'latitude<=': 36, 'latitude_step': 1, 'longitude>=': -20, 'longitude<=': 11, 'longitude_step': 1}\n",
            "Download finished at '/usr/local/lib/python3.11/dist-packages/pyo_oracle/data/sws_baseline_2000_2019_depthmean_2025-04-03-165742.nc'. File size is 31.9 MB.\n",
            "Downloading dataset 'si_baseline_2000_2018_depthmean' as nc file to '/usr/local/lib/python3.11/dist-packages/pyo_oracle/data'.\n",
            "Constraints are:\n",
            "{'time>=': '2004-01-01T00:00:00Z', 'time<=': '2012-01-01T12:00:00Z', 'time_step': 1, 'latitude>=': 8, 'latitude<=': 36, 'latitude_step': 1, 'longitude>=': -20, 'longitude<=': 11, 'longitude_step': 1}\n",
            "Download finished at '/usr/local/lib/python3.11/dist-packages/pyo_oracle/data/si_baseline_2000_2018_depthmean_2025-04-03-165745.nc'. File size is 31.9 MB.\n",
            "Downloading dataset 'phyc_baseline_2000_2020_depthmean' as nc file to '/usr/local/lib/python3.11/dist-packages/pyo_oracle/data'.\n",
            "Constraints are:\n",
            "{'time>=': '2004-01-01T00:00:00Z', 'time<=': '2012-01-01T12:00:00Z', 'time_step': 1, 'latitude>=': 8, 'latitude<=': 36, 'latitude_step': 1, 'longitude>=': -20, 'longitude<=': 11, 'longitude_step': 1}\n",
            "Download finished at '/usr/local/lib/python3.11/dist-packages/pyo_oracle/data/phyc_baseline_2000_2020_depthmean_2025-04-03-165749.nc'. File size is 31.9 MB.\n"
          ]
        }
      ]
    },
    {
      "cell_type": "code",
      "source": [
        "#Reference: https://help.marine.copernicus.eu/en/articles/5029956-how-to-convert-netcdf-to-geotiff\n",
        "import xarray as xr\n",
        "import rioxarray as rio\n",
        "\n",
        "#Create save location for files\n",
        "save_folder = '/content/oceandata/'\n",
        "os.system(('mkdir /content/oceandata/'))\n",
        "\n",
        "#List all files in the directory with .nc suffix\n",
        "pyo_directory = \"/usr/local/lib/python3.11/dist-packages/pyo_oracle/data/\"\n",
        "nc_filenames = os.listdir(pyo_directory)\n",
        "nc_filenames = [s for s in nc_filenames if \".nc\" in s]\n",
        "\n",
        "#Rewrite nc as a .tif as save\n",
        "for filename in nc_filenames:\n",
        "  #open file with name suffix\n",
        "  variable_path = pyo_directory + filename\n",
        "  variable = xr.open_dataset(variable_path)\n",
        "  #only extract the data variable with \"mean\" in the name\n",
        "  var_name = [s for s in variable._variables if \"mean\" in s]\n",
        "  var_data = variable[var_name[0]]\n",
        "  #convert var_data into a format where it can be saved as .tif\n",
        "  var_data = var_data.rio.set_spatial_dims(x_dim='longitude', y_dim='latitude')\n",
        "  var_data = var_data.rio.write_crs(\"epsg:4326\", inplace=True)\n",
        "  #save var_data\n",
        "  save_loc = save_folder + var_name[0] + \".tif\"\n",
        "  var_data.rio.to_raster(save_loc)"
      ],
      "metadata": {
        "id": "uaZttQ6szAsD"
      },
      "execution_count": 81,
      "outputs": []
    },
    {
      "cell_type": "markdown",
      "source": [
        "### Combining Data Sources\n",
        "\n",
        "Now, we extract envriomental data for each of the datapoints and add it back to the cephalopod location GeoDataFrame."
      ],
      "metadata": {
        "id": "RnnCYLFiPyaB"
      }
    },
    {
      "cell_type": "code",
      "source": [
        "tif_filenames = os.listdir(save_folder)\n",
        "\n",
        "for filename in tif_filenames:\n",
        "  #open with rasterio\n",
        "  variable_raster = rasterio.open((save_folder + filename))\n",
        "\n",
        "  #extract envrionmental variable data\n",
        "  variable_results = rasterstats.point_query(\n",
        "      cephalopod_locations,\n",
        "      variable_raster.read(1),\n",
        "      nodata = variable_raster.nodata,\n",
        "      affine = variable_raster.transform,\n",
        "      interpolate='nearest'\n",
        "  )\n",
        "  #add envrionmental variable data back to cephalopod data\n",
        "  cephalopod_locations[filename.replace(\".tif\",'')] = variable_results\n",
        "\n",
        "#remove NA values\n",
        "cephalopod_locations = cephalopod_locations.dropna()"
      ],
      "metadata": {
        "id": "mBuW2KXCQG0i"
      },
      "execution_count": 82,
      "outputs": []
    },
    {
      "cell_type": "markdown",
      "source": [
        "##Analysis"
      ],
      "metadata": {
        "id": "EFohTojfpw34"
      }
    },
    {
      "cell_type": "markdown",
      "source": [
        "First, we create a list of points where the species both was and was not found."
      ],
      "metadata": {
        "id": "MJwGQen9LOuh"
      }
    },
    {
      "cell_type": "code",
      "source": [
        "#Create locations where study species was found\n",
        "tod_ebl_locations = cephalopod_locations[cephalopod_locations[\"Species\"] == \"Todaropsis eblanae\"]\n",
        "tod_ebl_locations = tod_ebl_locations.drop_duplicates(subset = \"geometry\") #remove duplicate locations\n",
        "tod_ebl_locations[\"tod_ebl\"] = True\n",
        "\n",
        "#Create locations where study species was not found\n",
        "other_locations = cephalopod_locations[~ cephalopod_locations[\"geometry\"].isin(tod_ebl_locations.geometry)]\n",
        "other_locations = other_locations.drop_duplicates(subset = \"geometry\") #remove duplicate locations\n",
        "other_locations[\"tod_ebl\"] = False\n",
        "\n",
        "#Combine dataframes into single entry\n",
        "frame_concat = [tod_ebl_locations, other_locations]\n",
        "location_frame = pd.concat(frame_concat)"
      ],
      "metadata": {
        "id": "Pseky4MVK_Y8"
      },
      "execution_count": 83,
      "outputs": []
    },
    {
      "cell_type": "markdown",
      "source": [
        "Now, let's use the Random Forest Classifier model in SciKit Learn to create our model for the SDM."
      ],
      "metadata": {
        "id": "AD1PNcQxtXVj"
      }
    },
    {
      "cell_type": "code",
      "source": [
        "#Create training and test data\n",
        "location_data = location_frame.drop([\"geometry\", \"Family\", \"Species\",\"tod_ebl\"], axis = 1)\n",
        "location_target = location_frame.tod_ebl\n",
        "traindata, testdata, traintarget, testtarget = train_test_split(location_data, location_target, random_state = 47)\n",
        "\n",
        "#Feed data into RandomForestClassifier\n",
        "model = RandomForestClassifier(n_estimators=5000, random_state=0)\n",
        "model.fit(traindata, traintarget)\n",
        "\n",
        "#Generate and test predictions\n",
        "pred = model.predict(testdata)\n",
        "predaccuracy = [pred == testtarget]"
      ],
      "metadata": {
        "id": "VzuRKmzttgLA"
      },
      "execution_count": 84,
      "outputs": []
    },
    {
      "cell_type": "markdown",
      "source": [
        "Now that we've created this model, we can run the model to make predictions for all points within the study area."
      ],
      "metadata": {
        "id": "O7kmzY6bxMU0"
      }
    },
    {
      "cell_type": "code",
      "source": [
        "tif_filenames = os.listdir(save_folder)\n",
        "\n",
        "#create a placeholder array of zeroes to hold the data from the environmental variables\n",
        "holderArray = np.zeros((12, 561, 621))\n",
        "i = 0\n",
        "\n",
        "for filename in tif_filenames:\n",
        "  #open with rasterio\n",
        "  variable_raster = rasterio.open((save_folder + filename))\n",
        "  #add data from raster to the holderArray\n",
        "  holderArray[[i]] = variable_raster.read(1)\n",
        "  i = i + 1\n",
        "\n",
        "#reformat the data to have 348381 rows with each of the 12 envrionmental variables\n",
        "newHolder = pd.DataFrame(holderArray.reshape(12, 348381).transpose(1,0))\n",
        "\n",
        "#use our random forest model on the new data\n",
        "holderpred = model.predict(newHolder)\n",
        "#reformat the new data to be plottable by coercing to be integer\n",
        "holderpred = holderpred.reshape(561,621).astype(int)"
      ],
      "metadata": {
        "colab": {
          "base_uri": "https://localhost:8080/"
        },
        "id": "tB2ztlLKxHl_",
        "outputId": "8787c245-f6cb-4c61-fb9f-40c5a75e93b3"
      },
      "execution_count": 85,
      "outputs": [
        {
          "output_type": "stream",
          "name": "stderr",
          "text": [
            "/usr/local/lib/python3.11/dist-packages/sklearn/utils/validation.py:2739: UserWarning: X does not have valid feature names, but RandomForestClassifier was fitted with feature names\n",
            "  warnings.warn(\n"
          ]
        }
      ]
    },
    {
      "cell_type": "markdown",
      "source": [
        "Now, let's plot our SDM!\n",
        "\n",
        "**NOTE for Prof Chang: Was unable to successfully add a map of land areas to contextualize where this is taking place; how do I convert the holderpred back to the coordinate system which it represents?**"
      ],
      "metadata": {
        "id": "vK7Lb-c-dmO7"
      }
    },
    {
      "cell_type": "code",
      "source": [
        "#data = et.data.get_data('spatial-vector-lidar')\n",
        "#os.chdir(os.path.join(et.io.HOME, 'earth-analytics'))\n",
        "#worldBound_path = os.path.join(\"data\", \"spatial-vector-lidar\", \"global\",\n",
        "#                               \"ne_110m_land\", \"ne_110m_land.shp\")\n",
        "#worldBound = gpd.read_file(worldBound_path)\n",
        "\n",
        "#Plot the holderpred array, with white marking predicted Tod_elb locations\n",
        "fig, ax = plt.subplots()\n",
        "plt.imshow(holderpred, cmap=\"gray\")"
      ],
      "metadata": {
        "colab": {
          "base_uri": "https://localhost:8080/",
          "height": 453
        },
        "id": "HIN-s_kTxwZn",
        "outputId": "3e62be84-2f73-4877-a4e3-c224edacaabf"
      },
      "execution_count": 86,
      "outputs": [
        {
          "output_type": "execute_result",
          "data": {
            "text/plain": [
              "<matplotlib.image.AxesImage at 0x7810619e9150>"
            ]
          },
          "metadata": {},
          "execution_count": 86
        },
        {
          "output_type": "display_data",
          "data": {
            "text/plain": [
              "<Figure size 640x480 with 1 Axes>"
            ],
            "image/png": "[encoded data removed]"
          },
          "metadata": {}
        }
      ]
    },
    {
      "cell_type": "markdown",
      "source": [
        "We can now see a predicted distribution of *Todaropsis eblanae*! Even in areas where we have not surveyed, our model predicts habitat suitability or lack thereof, which is quite critical considering that it would take immense effort to survey in every 0.05 degree of latitude and longitude on the map.\n",
        "\n",
        "But which variables have the greatest importance in limiting *Todaropsis eblanae* distribution?\n",
        "\n",
        "Via Rongcheng et al, we can use our Random Forest to determine which variables have the greatest importance."
      ],
      "metadata": {
        "id": "NRuF6TFLeCS8"
      }
    },
    {
      "cell_type": "code",
      "source": [
        "#find importance values\n",
        "importance = model.feature_importances_\n",
        "\n",
        "#determine corresponding labels\n",
        "labels = np.array(location_data.columns)\n",
        "#format labels so that they no longer include mean!\n",
        "for i in range(12): labels[i] = labels[i].split(\"_\")[0]\n",
        "#convert to series with labels\n",
        "labeled_importance = pd.Series(importance, labels)\n",
        "#sort values from greatest to least\n",
        "labeled_importance = labeled_importance.sort_values(ascending = False)\n",
        "\n",
        "#plot labeled importance\n",
        "fig, ax = plt.subplots()\n",
        "\n",
        "#use bar plot\n",
        "ax.bar(labeled_importance.index, labeled_importance)\n",
        "\n",
        "#Set plot labels\n",
        "ax.set_ylabel('Importance')\n",
        "ax.set_xlabel('Variable')\n",
        "ax.set_title('Relative model importance of climatic variables')\n",
        "\n",
        "plt.show()"
      ],
      "metadata": {
        "colab": {
          "base_uri": "https://localhost:8080/",
          "height": 472
        },
        "id": "FJxZR50AdZJK",
        "outputId": "e749489d-6207-430d-c9d5-c78886459993"
      },
      "execution_count": 87,
      "outputs": [
        {
          "output_type": "display_data",
          "data": {
            "text/plain": [
              "<Figure size 640x480 with 1 Axes>"
            ],
            "image/png": "[encoded data removed]"
          },
          "metadata": {}
        }
      ]
    },
    {
      "cell_type": "markdown",
      "source": [
        "The three most importance variables are dissolved oxygen (o2), salinity (so), and pH.\n",
        "\n",
        "While these variables differ from what Rongcheng et al found regarding the distribution of the Yangtze Finless Porpoise, this is largely in accordance with our hypothesis, indicating that these variables are likely major drivers in limiting *Todaropsis eblanae* distribution. However, it is worth noting this could be in part due to spatial autocorrelation, as Luna et al noted that oxygen and salinity had significant relationships with latitude in the Canary Current and thus this observed relationship may be driven by some confounding variable associated with latitude of location rather than oxygen and salinity themselves."
      ],
      "metadata": {
        "id": "OsBvKK7IhVEL"
      }
    }
  ]
}